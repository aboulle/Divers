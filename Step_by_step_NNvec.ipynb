{
 "cells": [
  {
   "cell_type": "markdown",
   "metadata": {},
   "source": [
    "Ce notebook présente une implémentation pas à pas d'un réseau neurones en NumPy destiné à reconnaitre des chiffres manuscrits. Le réseau peut contenir un nombre arbitraire de couches et de neurones par couche. Les calculs sont entièrements vectorisés (implémentation adaptée de http://neuralnetworksanddeeplearning.com)"
   ]
  },
  {
   "cell_type": "code",
   "execution_count": 1,
   "metadata": {},
   "outputs": [],
   "source": [
    "import numpy as np\n",
    "import matplotlib.pyplot as plt\n",
    "import pickle, gzip"
   ]
  },
  {
   "cell_type": "markdown",
   "metadata": {},
   "source": [
    "Dans un premier temps chargeons les données [MNIST](http://yann.lecun.com/exdb/mnist/). Celles-ci sont des images de 28x28 pixels représentant des chiffres manuscrits et leur identification. Cette base de donnée provient du NIST. La représentation utilisée ici a été préparée pour être directement lue avec Python par le laboratoire de Machine Learning de l'université de Montreal: http://www.deeplearning.net/tutorial/gettingstarted.html"
   ]
  },
  {
   "cell_type": "code",
   "execution_count": 2,
   "metadata": {},
   "outputs": [
    {
     "name": "stdout",
     "output_type": "stream",
     "text": [
      "<class 'tuple'> <class 'tuple'> <class 'tuple'>\n",
      "(50000, 784) (50000,) (10000, 784) (10000,) (10000, 784) (10000,)\n"
     ]
    }
   ],
   "source": [
    "with gzip.open('mnist.pkl.gz', 'rb') as f:\n",
    "    training_data, validation_data, test_data = pickle.load(f, encoding=\"latin1\")\n",
    "\n",
    "#Affiche le type et les dimensions des données\n",
    "print(type(training_data), type(validation_data), type(test_data))\n",
    "print(np.shape(training_data[0]), np.shape(training_data[1]),\n",
    "     np.shape(validation_data[0]), np.shape(validation_data[1]),\n",
    "     np.shape(test_data[0]), np.shape(test_data[1]))"
   ]
  },
  {
   "cell_type": "markdown",
   "metadata": {},
   "source": [
    "La lecture de ce fichier renvoie trois tuples ``(x,y)``. ``x`` est une matrice 50 000x784 (ou 10 000x784) où 50 000 (ou 10 000) est le nombre d'images et 784 est le vecteur correspondant à l'image (28x28 = 784 pixels). ``y`` est un vecteur de 50 000 lignes (ou 10 000 lignes) correspondant au chiffre affiché dans chaque image.\n",
    "\n",
    "Re-organisons les données pour qu'elles soient plus facilement manipulables par la suite. Le tableau ``training_data_x`` sera un tableau 50 000x784. Chacune des 50 000 cases de ce tableau contient le vecteur image``x`` à 784 composantes. ``training_data_y`` est un vecteur à 10 composantes contenant le vecteur correspondant au chiffre affiché dans l'image.\n",
    "\n",
    "De façon analogue, ``validation_data_x`` et ``test_data_x`` contiennent 10 000 vecteurs ``x`` correspondant au vecteur image à 784 composante. ``validation_data_y`` et ``test_data_y`` seront deux tableaux de 10 000 lignes contenant l'entier correspondant à l'image.\n",
    "\n",
    "__Aparté__:  NumPy encode les vecteurs en ligne plutôt qu'en colonnes. Ainsi, mathématiquement, un vecteur de 3 composantes s'écrit comme une matrice de 3x1 dimensions en NumPy, et non un vecteur de longueur 3.\n",
    "\n",
    "Exemple: ``a = np.array([0,1,2])`` est un vecteur de dimension (3,) et s'affiche ``[0,1,2]``. Créons une matrice en ajoutant une dimension à ce vecteur avec ``b = a[:,np.newaxis]``. Les dimensions de cette matrice deviennent (3,1) et celui s'affiche\n",
    "```\n",
    "[[0]\n",
    " [1]\n",
    " [2]]\n",
    " ```\n",
    " \n",
    "Ainsi, le nombre 3 qui désignait une colonne dans le vecteur, désigne à présent une ligne dans la matrice. Si cela n'a que peu d'importance si l'on considère ces indices comme des dimensions indépendantes, cela peut prêter à confusion en algèbre linéaire où les indices ont une représentation bien précise en terme de lignes/colonnes.\n",
    "En résumé, représenter rigoureusement les vecteurs en NumPy necessite d'introduire une dimension supplémentaire ce qui alourdit le code. Dans la suite, nous nous conformons à la notation NumPy plutôt que la notation mathématique exacte. Cela implique que tous les vecteurs et tenseurs sont en fait transposés. De plus les produis tensoriels sont inversés: A.B s'écrira np.dot(B,A)."
   ]
  },
  {
   "cell_type": "code",
   "execution_count": 3,
   "metadata": {},
   "outputs": [],
   "source": [
    "N_dim = training_data[0].shape[1]   #Dimension du vecteur image\n",
    "\n",
    "training_data_x  = np.array(training_data[0])\n",
    "training_data_y = np.eye(10)[training_data[1]]\n",
    "\n",
    "validation_data_x  = np.array(validation_data[0])\n",
    "validation_data_y = validation_data[1]\n",
    "\n",
    "test_data_x  = np.array(test_data[0])\n",
    "test_data_y = test_data[1]"
   ]
  },
  {
   "cell_type": "code",
   "execution_count": 4,
   "metadata": {},
   "outputs": [
    {
     "name": "stdout",
     "output_type": "stream",
     "text": [
      "Le chiffre est 5\n",
      "L'image est:\n"
     ]
    },
    {
     "data": {
      "image/png": "[encoded data removed]",
      "text/plain": [
       "<Figure size 432x288 with 1 Axes>"
      ]
     },
     "metadata": {
      "needs_background": "light"
     },
     "output_type": "display_data"
    }
   ],
   "source": [
    "print(\"Le chiffre est\",np.argmax(training_data_y[0]))\n",
    "print(\"L'image est:\")\n",
    "plt.imshow(training_data_x[0,:].reshape(28,28), cmap='gray');"
   ]
  },
  {
   "cell_type": "markdown",
   "metadata": {},
   "source": [
    "Nous allons définir une liste de nombres `sizes` = [a,b,c...,N] décrivant notre réseau de neurones. a est le nombre de neurones dans la couche d'entrée et N est le nombre de neurones dans la couche de sortie. b,c,... sont les nombres de neurons dans les couches cachées. Par exemple [784, 30, 10] est un réseau à 3 couches présentant 784 neurones d'entrée (les pixels de l'image), 10 neurones de sortie (le vecteur représentant le chiffre) et une couche cachée de 30 neurones.\n",
    "\n",
    "Dans un réseau de neurone, l'activation des neurones dans un couche $l$ dépend de l'activation de tous les neurons de la couche $l-1$ selon:\n",
    "\n",
    "$$z^{l}_j = \\sum_k w^{l}_{jk} a^{l-1}_k + b^l_j $$\n",
    "\n",
    "$$a^{l}_j = \\sigma\\left( z^{l}_k \\right)$$\n",
    "\n",
    "Soit, de façon tensorielle:\n",
    "\n",
    "$$ z^l = w^l a^{l-1} + b^l $$\n",
    "\n",
    "$$ a^l = \\sigma( z^l) $$\n",
    "\n",
    "$w_{jk}$ et $b_j$ sont les poids et biais des neurones de la couche $l$ et $\\sigma$ est la fonction d'activation (choisie comme une fonction sigmoïde).\n",
    "\n",
    "Ci-dessous, nous initialisons deux listes contenant (pour chaque couche de neurones) les tenseurs de poids $w_{jk}$ et les vecteurs $b_j$ avec des nombres aléatoire gaussiens (centrés sur 0 et d'écart-type unité). Conformément aux équations précédentes, chaque vecteur de biais présente autant de dimensions/lignes que de neurones dans la couche concernée, et chaque tenseur de poids présente autant de lignes que de neurones dans la couches en cours et autant de colonnes que dans la couche précédente."
   ]
  },
  {
   "cell_type": "code",
   "execution_count": 5,
   "metadata": {},
   "outputs": [
    {
     "name": "stdout",
     "output_type": "stream",
     "text": [
      "Les dimensions du tenseur wjk et du vecteur bj dans la couche 1 sont (784, 30)  et  (30,)\n",
      "Les dimensions du tenseur wjk et du vecteur bj dans la couche 2 sont (30, 10)  et  (10,)\n"
     ]
    }
   ],
   "source": [
    "sizes = [N_dim, 30, 10]\n",
    "\n",
    "num_layers = len(sizes)\n",
    "\n",
    "biases = [np.random.randn(x) for x in sizes[1:]]\n",
    "weights = [np.random.randn(y, x) for x, y in zip(sizes[1:], sizes[:-1])]\n",
    "\n",
    "for i in np.arange(len(weights)):\n",
    "    print(\"Les dimensions du tenseur wjk et du vecteur bj dans la couche\", i+1,\n",
    "          \"sont\",np.shape(weights[i]),\" et \", np.shape(biases[i]))"
   ]
  },
  {
   "cell_type": "code",
   "execution_count": 6,
   "metadata": {},
   "outputs": [
    {
     "data": {
      "image/png": "[encoded data removed]",
      "text/plain": [
       "<Figure size 432x288 with 1 Axes>"
      ]
     },
     "metadata": {
      "needs_background": "light"
     },
     "output_type": "display_data"
    }
   ],
   "source": [
    "def sigmoid(z):\n",
    "    return 1.0/(1.0+np.exp(-z))\n",
    "\n",
    "def sigmoid_prime(z):\n",
    "    return sigmoid(z)*(1-sigmoid(z))\n",
    "\n",
    "i = np.linspace(-10, 10, 100)\n",
    "plt.plot(i, sigmoid(i), i, sigmoid_prime(i));"
   ]
  },
  {
   "cell_type": "code",
   "execution_count": 7,
   "metadata": {},
   "outputs": [
    {
     "name": "stdout",
     "output_type": "stream",
     "text": [
      "Chiffre identifié : 5 ; Chiffre réel: 5\n"
     ]
    }
   ],
   "source": [
    "'''\n",
    "Cette fonction calcule la réponse du réseau de neurones pour une image d'entrée \"a\".\n",
    "Elle renvoie un vecteur correspondant au chiffre attendu.\n",
    "'''\n",
    "def feedforward(a):\n",
    "    global biases, weights\n",
    "    for b, w in zip(biases, weights):\n",
    "        a = sigmoid(np.dot(a, w)+b)\n",
    "    return a\n",
    "\n",
    "# Est-ce que le réseau arrive à reconnaitre le premier chiffre ?\n",
    "calc_vector = feedforward(training_data_x[0])\n",
    "real_vector = training_data_y[0]\n",
    "print(\"Chiffre identifié :\", np.argmax(calc_vector), \"; Chiffre réel:\", np.argmax(real_vector))\n"
   ]
  },
  {
   "cell_type": "code",
   "execution_count": 14,
   "metadata": {},
   "outputs": [],
   "source": [
    "def backprop(x, y):\n",
    "    \"\"\"Renvoie un tuple ``(nabla_b, nabla_w, err)`` représentant le\n",
    "    le gradient de la fonction de cout C sommé sur toutes les données.\n",
    "    ``nabla_b`` et ``nabla_w`` sont des listes de tableaux numpy \n",
    "    analogues à ``biases`` and ``weights``.\"\"\"\n",
    "    global weights, biases\n",
    "    nabla_b = [np.zeros(b.shape) for b in biases]\n",
    "    nabla_w = [np.zeros(w.shape) for w in weights]\n",
    "    # feedforward\n",
    "    activation = x\n",
    "    activations = [x] # liste contenant toutes les activations par couche\n",
    "    zs = [] # liste contenant les z par couche\n",
    "    for b, w in zip(biases, weights):\n",
    "        z = np.dot(activation,w)+b\n",
    "        zs.append(z)\n",
    "        activation = sigmoid(z)\n",
    "        activations.append(activation)\n",
    "    \n",
    "    # Calcul des erreurs de la dernière couche\n",
    "    #err = ((activations[-1] - y)**2).sum(axis=(0,1))\n",
    "    \n",
    "    delta = (activations[-1] - y) * sigmoid_prime(zs[-1])\n",
    "\n",
    "    nabla_b[-1] = delta.sum(axis=0)\n",
    "    nabla_w[-1] = np.dot(activations[-2].transpose(), delta)\n",
    "    \n",
    "    # Retro-propagation\n",
    "    # Graduation negative pour réculer dans le réseau.\n",
    "    for l in range(2, num_layers):\n",
    "        z = zs[-l]\n",
    "        sp = sigmoid_prime(z)\n",
    "        delta = np.dot(delta, weights[-l+1].transpose()) * sp\n",
    "        nabla_b[-l] = delta.sum(axis=0)\n",
    "        nabla_w[-l] = np.dot(activations[-l-1].transpose(), delta)\n",
    "\n",
    "    return (nabla_b, nabla_w)\n",
    "\n",
    "def update_weights_biases(x, y, eta):\n",
    "    \"\"\" Ajuste les poids et biais par la méthode du gradient\n",
    "    stochastique dans un mini-lot. ``eta`` est la vitesse d\n",
    "    aprentissage (poids affecté au gradient)\"\"\"\n",
    "    global weights, biases\n",
    "    mb_size = x.shape[0]\n",
    "\n",
    "    nabla_b, nabla_w = backprop(x, y)\n",
    "\n",
    "    weights = [w-(eta/mb_size)*nw for w, nw in zip(weights, nabla_w)]\n",
    "    biases = [b-(eta/mb_size)*nb for b, nb in zip(biases, nabla_b)]\n",
    "\n",
    "def train(train_data, epochs, mini_batch_size, eta, test_data=None):\n",
    "    \"\"\"Entraine le réseau de neurone par la méthode du gradient\n",
    "    stochastique par mini-lots. Les données d'entrée sont les \n",
    "    les tableaux MxN_dim où M est le nombre de données expérimentales\n",
    "    et N_dim est la dimension du vecteur image. Epochs est le nombre\n",
    "    d'itération requises pour l'apprentissage. Mini_batch_size est le\n",
    "    nombre de mini-lots. Eta est la vitesse d'aprentissage. Test_data\n",
    "    permet d'évaluer la précision atteinte par le réseau en utilisant\n",
    "    un jeu de données indépendant\"\"\"\n",
    "    global weights, biases, rmse_train, accuracy_train\n",
    "    \n",
    "    (x, y) = train_data\n",
    "    \n",
    "    if test_data:\n",
    "        n_test = len(test_data[1])\n",
    "        rmse_train[0], accuracy_train[0], rmse_test[0], accuracy_test[0] = error_accuracy(x, y, test_data)\n",
    "    else :\n",
    "        rmse_train[0], accuracy_train[0] = error_accuracy(x, y, test_data)\n",
    "         \n",
    "    for j in range(epochs):\n",
    "        s = np.arange(x.shape[0])\n",
    "        np.random.shuffle(s)\n",
    "        x_mb = np.split(x[s], mini_batch_size)\n",
    "        y_mb = np.split(y[s], mini_batch_size)\n",
    "\n",
    "        for xx, yy in zip(x_mb,y_mb):\n",
    "            update_weights_biases(xx, yy, eta)\n",
    "           \n",
    "        \n",
    "\n",
    "        if test_data:\n",
    "            rmse_train[j+1], accuracy_train[j+1], rmse_test[j+1], accuracy_test[j+1] = error_accuracy(x, y, test_data)\n",
    "            print(\"Epoch {} : Training error {:6.4f} (accuracy {:6.4f}%) ; Test error {:6.4f} (accuracy {:6.4f}%)\"\n",
    "                  .format(j+1, rmse_train[j], 100*accuracy_train[j+1], rmse_test[j+1], 100*accuracy_test[j+1]))\n",
    "            \n",
    "        else:\n",
    "            rmse_train[j+1], accuracy_train[j+1] = error_accuracy(x, y, test_data)\n",
    "            print(\"Epoch {} : Training error {:6.4f}  (accuracy {:6.3f}%)\"\n",
    "                  .format(j+1, rmse_train[j+1], 100*accuracy_train[j+1]))\n",
    "\n",
    "\n",
    "def error_accuracy(x, y, test_data=None):\n",
    "    # Calcule la réponse du réseau\n",
    "    a = feedforward(x)\n",
    "    # Evalue l'erreur totale\n",
    "    error = ((a - y)**2).sum(axis=(0,1))\n",
    "    # Combien de chiffre le réseau a-t-il reconnu\n",
    "    result = np.argmax(a, axis=1)\n",
    "    result = (result == np.argmax(y, axis=1)).sum()\n",
    "    \n",
    "    if test_data:\n",
    "        (xt, yt) = test_data\n",
    "        # Calcule la réponse du réseau\n",
    "        at = feedforward(xt)\n",
    "        # Evalue l'erreur totale\n",
    "        yt = np.eye(10)[yt]\n",
    "        error_t = ((at - yt)**2).sum(axis=(0,1))\n",
    "        # Combien de chiffre le réseau a-t-il reconnu\n",
    "        result_t = np.argmax(at, axis=1)\n",
    "        result_t = (result_t == np.argmax(yt, axis=1)).sum()\n",
    "        return error / a.shape[0], result / a.shape[0], error_t / at.shape[0], result_t / at.shape[0]\n",
    "    \n",
    "    else:\n",
    "        return error / a.shape[0], result / a.shape[0]\n",
    "    \n",
    "            \n",
    "def eval_accuracy(test_data_x, test_data_y):\n",
    "    \"\"\"Retourne le nombre de chiffres que le réseau a correctement reconnu\n",
    "    dans un jeu de données indépendant de celui utilisé pour l'entrainement\"\"\"\n",
    "    test_results = [(np.argmax(feedforward(x)), y) for (x, y) in zip(test_data_x, test_data_y)]\n",
    "    return sum(int(x == y) for (x, y) in test_results)       "
   ]
  },
  {
   "cell_type": "code",
   "execution_count": 16,
   "metadata": {},
   "outputs": [
    {
     "name": "stdout",
     "output_type": "stream",
     "text": [
      "Epoch 1 : Training error 0.2962 (accuracy 79.6660%) ; Test error 0.2872 (accuracy 79.3900%)\n",
      "Epoch 2 : Training error 0.2867 (accuracy 80.1180%) ; Test error 0.2796 (accuracy 79.7700%)\n",
      "Epoch 3 : Training error 0.2786 (accuracy 80.5040%) ; Test error 0.2737 (accuracy 80.0800%)\n",
      "Epoch 4 : Training error 0.2723 (accuracy 80.8060%) ; Test error 0.2675 (accuracy 80.5000%)\n",
      "Epoch 5 : Training error 0.2664 (accuracy 81.0820%) ; Test error 0.2625 (accuracy 80.6900%)\n",
      "Epoch 6 : Training error 0.2610 (accuracy 81.3360%) ; Test error 0.2591 (accuracy 80.8800%)\n",
      "Epoch 7 : Training error 0.2568 (accuracy 81.5920%) ; Test error 0.2550 (accuracy 81.2900%)\n",
      "Epoch 8 : Training error 0.2524 (accuracy 81.8180%) ; Test error 0.2516 (accuracy 81.4400%)\n",
      "Epoch 9 : Training error 0.2488 (accuracy 81.9900%) ; Test error 0.2482 (accuracy 81.6300%)\n",
      "Epoch 10 : Training error 0.2452 (accuracy 82.1920%) ; Test error 0.2455 (accuracy 81.8600%)\n",
      "Epoch 11 : Training error 0.2420 (accuracy 82.3620%) ; Test error 0.2427 (accuracy 82.0200%)\n",
      "Epoch 12 : Training error 0.2388 (accuracy 82.5100%) ; Test error 0.2400 (accuracy 82.1800%)\n",
      "Epoch 13 : Training error 0.2359 (accuracy 82.6540%) ; Test error 0.2380 (accuracy 82.2500%)\n",
      "Epoch 14 : Training error 0.2335 (accuracy 82.7680%) ; Test error 0.2363 (accuracy 82.4600%)\n",
      "Epoch 15 : Training error 0.2314 (accuracy 82.9160%) ; Test error 0.2345 (accuracy 82.4700%)\n",
      "Epoch 16 : Training error 0.2290 (accuracy 82.9820%) ; Test error 0.2322 (accuracy 82.5200%)\n",
      "Epoch 17 : Training error 0.2267 (accuracy 83.1580%) ; Test error 0.2312 (accuracy 82.7300%)\n",
      "Epoch 18 : Training error 0.2250 (accuracy 83.2020%) ; Test error 0.2293 (accuracy 82.6900%)\n",
      "Epoch 19 : Training error 0.2233 (accuracy 83.2960%) ; Test error 0.2278 (accuracy 82.7300%)\n",
      "Epoch 20 : Training error 0.2213 (accuracy 83.4360%) ; Test error 0.2272 (accuracy 82.7600%)\n",
      "Epoch 21 : Training error 0.2199 (accuracy 83.4940%) ; Test error 0.2255 (accuracy 82.7800%)\n",
      "Epoch 22 : Training error 0.2184 (accuracy 83.5460%) ; Test error 0.2238 (accuracy 82.9300%)\n",
      "Epoch 23 : Training error 0.2167 (accuracy 83.6000%) ; Test error 0.2228 (accuracy 83.0800%)\n",
      "Epoch 24 : Training error 0.2154 (accuracy 83.7500%) ; Test error 0.2222 (accuracy 83.0800%)\n",
      "Epoch 25 : Training error 0.2141 (accuracy 83.7140%) ; Test error 0.2208 (accuracy 83.1600%)\n",
      "Epoch 26 : Training error 0.2128 (accuracy 83.8660%) ; Test error 0.2199 (accuracy 83.2700%)\n",
      "Epoch 27 : Training error 0.2114 (accuracy 83.8660%) ; Test error 0.2188 (accuracy 83.3700%)\n",
      "Epoch 28 : Training error 0.2102 (accuracy 83.9580%) ; Test error 0.2181 (accuracy 83.3600%)\n",
      "Epoch 29 : Training error 0.2091 (accuracy 84.0320%) ; Test error 0.2172 (accuracy 83.3800%)\n",
      "Epoch 30 : Training error 0.2084 (accuracy 84.0580%) ; Test error 0.2161 (accuracy 83.4500%)\n",
      "Epoch 31 : Training error 0.2071 (accuracy 84.1800%) ; Test error 0.2154 (accuracy 83.4800%)\n",
      "Epoch 32 : Training error 0.2059 (accuracy 84.2400%) ; Test error 0.2148 (accuracy 83.6500%)\n",
      "Epoch 33 : Training error 0.2050 (accuracy 84.2980%) ; Test error 0.2138 (accuracy 83.5600%)\n",
      "Epoch 34 : Training error 0.2042 (accuracy 84.3400%) ; Test error 0.2134 (accuracy 83.6500%)\n",
      "Epoch 35 : Training error 0.2032 (accuracy 84.4160%) ; Test error 0.2128 (accuracy 83.7100%)\n",
      "Epoch 36 : Training error 0.2022 (accuracy 84.4180%) ; Test error 0.2126 (accuracy 83.6400%)\n",
      "Epoch 37 : Training error 0.2015 (accuracy 84.4960%) ; Test error 0.2116 (accuracy 83.7500%)\n",
      "Epoch 38 : Training error 0.2005 (accuracy 84.5100%) ; Test error 0.2110 (accuracy 83.7300%)\n",
      "Epoch 39 : Training error 0.1997 (accuracy 84.5580%) ; Test error 0.2102 (accuracy 83.7900%)\n",
      "Epoch 40 : Training error 0.1989 (accuracy 84.6080%) ; Test error 0.2104 (accuracy 83.7200%)\n",
      "Epoch 41 : Training error 0.1984 (accuracy 84.6900%) ; Test error 0.2093 (accuracy 83.8200%)\n",
      "Epoch 42 : Training error 0.1975 (accuracy 84.7240%) ; Test error 0.2090 (accuracy 83.9200%)\n",
      "Epoch 43 : Training error 0.1967 (accuracy 84.7680%) ; Test error 0.2080 (accuracy 83.9700%)\n",
      "Epoch 44 : Training error 0.1960 (accuracy 84.8060%) ; Test error 0.2079 (accuracy 83.9400%)\n",
      "Epoch 45 : Training error 0.1954 (accuracy 84.8400%) ; Test error 0.2071 (accuracy 83.9900%)\n",
      "Epoch 46 : Training error 0.1947 (accuracy 84.8720%) ; Test error 0.2068 (accuracy 84.0200%)\n",
      "Epoch 47 : Training error 0.1940 (accuracy 84.9320%) ; Test error 0.2065 (accuracy 84.1100%)\n",
      "Epoch 48 : Training error 0.1934 (accuracy 84.9900%) ; Test error 0.2061 (accuracy 84.0600%)\n",
      "Epoch 49 : Training error 0.1929 (accuracy 84.9720%) ; Test error 0.2055 (accuracy 84.1600%)\n",
      "Epoch 50 : Training error 0.1924 (accuracy 85.0400%) ; Test error 0.2055 (accuracy 84.1400%)\n",
      "Epoch 51 : Training error 0.1920 (accuracy 85.0500%) ; Test error 0.2051 (accuracy 84.1100%)\n",
      "Epoch 52 : Training error 0.1912 (accuracy 85.0480%) ; Test error 0.2046 (accuracy 84.1500%)\n",
      "Epoch 53 : Training error 0.1906 (accuracy 85.0760%) ; Test error 0.2043 (accuracy 84.1600%)\n",
      "Epoch 54 : Training error 0.1900 (accuracy 85.1720%) ; Test error 0.2042 (accuracy 84.1500%)\n",
      "Epoch 55 : Training error 0.1896 (accuracy 85.1780%) ; Test error 0.2035 (accuracy 84.1100%)\n",
      "Epoch 56 : Training error 0.1892 (accuracy 85.2280%) ; Test error 0.2034 (accuracy 84.1800%)\n",
      "Epoch 57 : Training error 0.1885 (accuracy 85.2180%) ; Test error 0.2030 (accuracy 84.2100%)\n",
      "Epoch 58 : Training error 0.1882 (accuracy 85.3180%) ; Test error 0.2023 (accuracy 84.3500%)\n",
      "Epoch 59 : Training error 0.1876 (accuracy 86.6040%) ; Test error 0.2010 (accuracy 85.5600%)\n",
      "Epoch 60 : Training error 0.1858 (accuracy 93.4300%) ; Test error 0.1416 (accuracy 92.2600%)\n",
      "Epoch 61 : Training error 0.1292 (accuracy 93.5720%) ; Test error 0.1316 (accuracy 92.2600%)\n",
      "Epoch 62 : Training error 0.1178 (accuracy 93.6220%) ; Test error 0.1274 (accuracy 92.3000%)\n",
      "Epoch 63 : Training error 0.1135 (accuracy 93.6880%) ; Test error 0.1252 (accuracy 92.3600%)\n",
      "Epoch 64 : Training error 0.1110 (accuracy 93.7220%) ; Test error 0.1236 (accuracy 92.4400%)\n",
      "Epoch 65 : Training error 0.1091 (accuracy 93.7220%) ; Test error 0.1224 (accuracy 92.5000%)\n",
      "Epoch 66 : Training error 0.1079 (accuracy 93.7900%) ; Test error 0.1210 (accuracy 92.5100%)\n",
      "Epoch 67 : Training error 0.1065 (accuracy 93.8740%) ; Test error 0.1199 (accuracy 92.6500%)\n",
      "Epoch 68 : Training error 0.1054 (accuracy 93.8940%) ; Test error 0.1192 (accuracy 92.6200%)\n",
      "Epoch 69 : Training error 0.1044 (accuracy 93.9620%) ; Test error 0.1184 (accuracy 92.7100%)\n",
      "Epoch 70 : Training error 0.1035 (accuracy 93.9800%) ; Test error 0.1177 (accuracy 92.7700%)\n",
      "Epoch 71 : Training error 0.1026 (accuracy 94.0260%) ; Test error 0.1173 (accuracy 92.7500%)\n",
      "Epoch 72 : Training error 0.1018 (accuracy 94.0700%) ; Test error 0.1165 (accuracy 92.9200%)\n",
      "Epoch 73 : Training error 0.1010 (accuracy 94.1060%) ; Test error 0.1162 (accuracy 92.7800%)\n",
      "Epoch 74 : Training error 0.1003 (accuracy 94.1120%) ; Test error 0.1161 (accuracy 92.8800%)\n",
      "Epoch 75 : Training error 0.0997 (accuracy 94.1620%) ; Test error 0.1154 (accuracy 92.9400%)\n",
      "Epoch 76 : Training error 0.0988 (accuracy 94.2240%) ; Test error 0.1151 (accuracy 92.9200%)\n",
      "Epoch 77 : Training error 0.0984 (accuracy 94.2540%) ; Test error 0.1146 (accuracy 93.0500%)\n",
      "Epoch 78 : Training error 0.0977 (accuracy 94.2820%) ; Test error 0.1143 (accuracy 92.9400%)\n",
      "Epoch 79 : Training error 0.0975 (accuracy 94.3640%) ; Test error 0.1139 (accuracy 93.0400%)\n",
      "Epoch 80 : Training error 0.0965 (accuracy 94.3500%) ; Test error 0.1136 (accuracy 93.0600%)\n",
      "Epoch 81 : Training error 0.0960 (accuracy 94.4260%) ; Test error 0.1130 (accuracy 93.1200%)\n",
      "Epoch 82 : Training error 0.0953 (accuracy 94.4180%) ; Test error 0.1130 (accuracy 93.1400%)\n",
      "Epoch 83 : Training error 0.0951 (accuracy 94.4660%) ; Test error 0.1124 (accuracy 93.1700%)\n",
      "Epoch 84 : Training error 0.0944 (accuracy 94.4620%) ; Test error 0.1121 (accuracy 93.1600%)\n",
      "Epoch 85 : Training error 0.0939 (accuracy 94.5140%) ; Test error 0.1115 (accuracy 93.2300%)\n",
      "Epoch 86 : Training error 0.0934 (accuracy 94.5260%) ; Test error 0.1116 (accuracy 93.2800%)\n",
      "Epoch 87 : Training error 0.0930 (accuracy 94.5220%) ; Test error 0.1112 (accuracy 93.4300%)\n",
      "Epoch 88 : Training error 0.0926 (accuracy 94.5800%) ; Test error 0.1113 (accuracy 93.2200%)\n",
      "Epoch 89 : Training error 0.0921 (accuracy 94.5840%) ; Test error 0.1108 (accuracy 93.3500%)\n"
     ]
    },
    {
     "name": "stdout",
     "output_type": "stream",
     "text": [
      "Epoch 90 : Training error 0.0915 (accuracy 94.6220%) ; Test error 0.1107 (accuracy 93.3500%)\n",
      "Epoch 91 : Training error 0.0912 (accuracy 94.6480%) ; Test error 0.1102 (accuracy 93.3900%)\n",
      "Epoch 92 : Training error 0.0908 (accuracy 94.6440%) ; Test error 0.1100 (accuracy 93.4500%)\n",
      "Epoch 93 : Training error 0.0905 (accuracy 94.7240%) ; Test error 0.1099 (accuracy 93.3800%)\n",
      "Epoch 94 : Training error 0.0899 (accuracy 94.7140%) ; Test error 0.1094 (accuracy 93.4900%)\n",
      "Epoch 95 : Training error 0.0896 (accuracy 94.7380%) ; Test error 0.1091 (accuracy 93.5400%)\n",
      "Epoch 96 : Training error 0.0892 (accuracy 94.7840%) ; Test error 0.1093 (accuracy 93.4600%)\n",
      "Epoch 97 : Training error 0.0889 (accuracy 94.7900%) ; Test error 0.1090 (accuracy 93.5300%)\n",
      "Epoch 98 : Training error 0.0885 (accuracy 94.8100%) ; Test error 0.1090 (accuracy 93.4600%)\n",
      "Epoch 99 : Training error 0.0883 (accuracy 94.8160%) ; Test error 0.1087 (accuracy 93.4400%)\n",
      "Epoch 100 : Training error 0.0878 (accuracy 94.8600%) ; Test error 0.1084 (accuracy 93.4900%)\n"
     ]
    }
   ],
   "source": [
    "mini_batch_size = 100\n",
    "epochs = 100\n",
    "rate = 5.0\n",
    "\n",
    "rmse_train = np.zeros(epochs+1)\n",
    "accuracy_train = np.zeros(epochs+1)\n",
    "rmse_test = np.zeros(epochs+1)\n",
    "accuracy_test = np.zeros(epochs+1)\n",
    "\n",
    "train((training_data_x, training_data_y), epochs, mini_batch_size, rate, test_data=(test_data_x, test_data_y))"
   ]
  },
  {
   "cell_type": "code",
   "execution_count": null,
   "metadata": {},
   "outputs": [],
   "source": [
    "plt.plot(accuracy_train, label='Training accuracy')\n",
    "plt.plot(rmse_train, label='Training error')\n",
    "plt.plot(accuracy_test, label='Testing accuracy')\n",
    "plt.plot(rmse_test, label='Testing error')\n",
    "\n",
    "plt.xlabel('epoch')\n",
    "plt.legend()\n",
    "\n",
    "with open('saved_weights', 'wb') as fw:\n",
    "    pickle.dump(weights, fw)\n",
    "with open('saved_biases', 'wb') as fb:\n",
    "    pickle.dump(biases, fb)"
   ]
  },
  {
   "cell_type": "code",
   "execution_count": null,
   "metadata": {},
   "outputs": [],
   "source": [
    "a = np.array([[1,2,3],[4,5,6]])\n",
    "norm_linalg = np.linalg.norm(a)**2\n",
    "norm_sum = (a*a).sum(axis=(0,1))\n",
    "#norm_dot = (np.dot(a,a))\n",
    "print(norm_linalg, norm_sum, norm_dot)\n",
    "np.allclose(norm_linalg, norm_sum)"
   ]
  },
  {
   "cell_type": "code",
   "execution_count": null,
   "metadata": {},
   "outputs": [],
   "source": []
  }
 ],
 "metadata": {
  "kernelspec": {
   "display_name": "Python 3",
   "language": "python",
   "name": "python3"
  },
  "language_info": {
   "codemirror_mode": {
    "name": "ipython",
    "version": 3
   },
   "file_extension": ".py",
   "mimetype": "text/x-python",
   "name": "python",
   "nbconvert_exporter": "python",
   "pygments_lexer": "ipython3",
   "version": "3.6.9"
  }
 },
 "nbformat": 4,
 "nbformat_minor": 2
}
